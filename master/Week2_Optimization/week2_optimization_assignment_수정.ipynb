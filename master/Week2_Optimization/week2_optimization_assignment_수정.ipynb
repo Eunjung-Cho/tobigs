{
  "nbformat": 4,
  "nbformat_minor": 0,
  "metadata": {
    "kernelspec": {
      "display_name": "Python 3",
      "language": "python",
      "name": "python3"
    },
    "language_info": {
      "codemirror_mode": {
        "name": "ipython",
        "version": 3
      },
      "file_extension": ".py",
      "mimetype": "text/x-python",
      "name": "python",
      "nbconvert_exporter": "python",
      "pygments_lexer": "ipython3",
      "version": "3.7.4"
    },
    "colab": {
      "name": "week2_optimization_assignment.ipynb의 사본",
      "provenance": [],
      "collapsed_sections": [],
      "toc_visible": true
    }
  },
  "cells": [
    {
      "cell_type": "markdown",
      "metadata": {
        "id": "sexNpGVpmMrA",
        "colab_type": "text"
      },
      "source": [
        "# Tobig's 14기 2주차 Optimization 과제\n",
        "### Made by 이지용"
      ]
    },
    {
      "cell_type": "markdown",
      "metadata": {
        "id": "4CB6aEoXmMrJ",
        "colab_type": "text"
      },
      "source": [
        "# Gradient Descent 구현하기\n",
        "\n",
        "### 1) \"...\" 표시되어 있는 빈 칸을 채워주세요  \n",
        "### 2) 강의내용과 코드에 대해 공부한 내용을 적어서 과제를 채워주세요"
      ]
    },
    {
      "cell_type": "code",
      "metadata": {
        "id": "UUXZ1TkvmMrN",
        "colab_type": "code",
        "colab": {
          "base_uri": "https://localhost:8080/",
          "height": 245
        },
        "outputId": "5570d454-0a3c-4b76-f9ed-1a315b6973d2"
      },
      "source": [
        "pip install -U scikit-learn"
      ],
      "execution_count": 1,
      "outputs": [
        {
          "output_type": "stream",
          "text": [
            "Collecting scikit-learn\n",
            "\u001b[?25l  Downloading https://files.pythonhosted.org/packages/5c/a1/273def87037a7fb010512bbc5901c31cfddfca8080bc63b42b26e3cc55b3/scikit_learn-0.23.2-cp36-cp36m-manylinux1_x86_64.whl (6.8MB)\n",
            "\u001b[K     |████████████████████████████████| 6.8MB 4.4MB/s \n",
            "\u001b[?25hRequirement already satisfied, skipping upgrade: numpy>=1.13.3 in /usr/local/lib/python3.6/dist-packages (from scikit-learn) (1.18.5)\n",
            "Requirement already satisfied, skipping upgrade: joblib>=0.11 in /usr/local/lib/python3.6/dist-packages (from scikit-learn) (0.16.0)\n",
            "Collecting threadpoolctl>=2.0.0\n",
            "  Downloading https://files.pythonhosted.org/packages/f7/12/ec3f2e203afa394a149911729357aa48affc59c20e2c1c8297a60f33f133/threadpoolctl-2.1.0-py3-none-any.whl\n",
            "Requirement already satisfied, skipping upgrade: scipy>=0.19.1 in /usr/local/lib/python3.6/dist-packages (from scikit-learn) (1.4.1)\n",
            "Installing collected packages: threadpoolctl, scikit-learn\n",
            "  Found existing installation: scikit-learn 0.22.2.post1\n",
            "    Uninstalling scikit-learn-0.22.2.post1:\n",
            "      Successfully uninstalled scikit-learn-0.22.2.post1\n",
            "Successfully installed scikit-learn-0.23.2 threadpoolctl-2.1.0\n"
          ],
          "name": "stdout"
        }
      ]
    },
    {
      "cell_type": "code",
      "metadata": {
        "id": "vVSQ_0OemMrv",
        "colab_type": "code",
        "colab": {}
      },
      "source": [
        "import pandas as pd\n",
        "import numpy as np\n",
        "import random\n",
        "import tensorflow as tf\n",
        "import math"
      ],
      "execution_count": 2,
      "outputs": []
    },
    {
      "cell_type": "code",
      "metadata": {
        "id": "viKsXIenoTNt",
        "colab_type": "code",
        "colab": {
          "base_uri": "https://localhost:8080/",
          "height": 125
        },
        "outputId": "6fa08067-b602-4459-dc71-bc2b7672515e"
      },
      "source": [
        "from google.colab import drive\n",
        "drive.mount('/content/drive')"
      ],
      "execution_count": 3,
      "outputs": [
        {
          "output_type": "stream",
          "text": [
            "Go to this URL in a browser: https://accounts.google.com/o/oauth2/auth?client_id=947318989803-6bn6qk8qdgf4n4g3pfee6491hc0brc4i.apps.googleusercontent.com&redirect_uri=urn%3aietf%3awg%3aoauth%3a2.0%3aoob&scope=email%20https%3a%2f%2fwww.googleapis.com%2fauth%2fdocs.test%20https%3a%2f%2fwww.googleapis.com%2fauth%2fdrive%20https%3a%2f%2fwww.googleapis.com%2fauth%2fdrive.photos.readonly%20https%3a%2f%2fwww.googleapis.com%2fauth%2fpeopleapi.readonly&response_type=code\n",
            "\n",
            "Enter your authorization code:\n",
            "··········\n",
            "Mounted at /content/drive\n"
          ],
          "name": "stdout"
        }
      ]
    },
    {
      "cell_type": "code",
      "metadata": {
        "scrolled": true,
        "id": "sbf93u3ZmMr_",
        "colab_type": "code",
        "colab": {
          "base_uri": "https://localhost:8080/",
          "height": 191
        },
        "outputId": "cbdbae69-a229-4a14-8193-0d315d314bf3"
      },
      "source": [
        "data = pd.read_csv('/content/drive/My Drive/투빅스/2주차/assignment_2.csv')\n",
        "data.head()"
      ],
      "execution_count": 4,
      "outputs": [
        {
          "output_type": "execute_result",
          "data": {
            "text/html": [
              "<div>\n",
              "<style scoped>\n",
              "    .dataframe tbody tr th:only-of-type {\n",
              "        vertical-align: middle;\n",
              "    }\n",
              "\n",
              "    .dataframe tbody tr th {\n",
              "        vertical-align: top;\n",
              "    }\n",
              "\n",
              "    .dataframe thead th {\n",
              "        text-align: right;\n",
              "    }\n",
              "</style>\n",
              "<table border=\"1\" class=\"dataframe\">\n",
              "  <thead>\n",
              "    <tr style=\"text-align: right;\">\n",
              "      <th></th>\n",
              "      <th>Label</th>\n",
              "      <th>bias</th>\n",
              "      <th>experience</th>\n",
              "      <th>salary</th>\n",
              "    </tr>\n",
              "  </thead>\n",
              "  <tbody>\n",
              "    <tr>\n",
              "      <th>0</th>\n",
              "      <td>1</td>\n",
              "      <td>1</td>\n",
              "      <td>0.7</td>\n",
              "      <td>48000</td>\n",
              "    </tr>\n",
              "    <tr>\n",
              "      <th>1</th>\n",
              "      <td>0</td>\n",
              "      <td>1</td>\n",
              "      <td>1.9</td>\n",
              "      <td>48000</td>\n",
              "    </tr>\n",
              "    <tr>\n",
              "      <th>2</th>\n",
              "      <td>1</td>\n",
              "      <td>1</td>\n",
              "      <td>2.5</td>\n",
              "      <td>60000</td>\n",
              "    </tr>\n",
              "    <tr>\n",
              "      <th>3</th>\n",
              "      <td>0</td>\n",
              "      <td>1</td>\n",
              "      <td>4.2</td>\n",
              "      <td>63000</td>\n",
              "    </tr>\n",
              "    <tr>\n",
              "      <th>4</th>\n",
              "      <td>0</td>\n",
              "      <td>1</td>\n",
              "      <td>6.0</td>\n",
              "      <td>76000</td>\n",
              "    </tr>\n",
              "  </tbody>\n",
              "</table>\n",
              "</div>"
            ],
            "text/plain": [
              "   Label  bias  experience  salary\n",
              "0      1     1         0.7   48000\n",
              "1      0     1         1.9   48000\n",
              "2      1     1         2.5   60000\n",
              "3      0     1         4.2   63000\n",
              "4      0     1         6.0   76000"
            ]
          },
          "metadata": {
            "tags": []
          },
          "execution_count": 4
        }
      ]
    },
    {
      "cell_type": "code",
      "metadata": {
        "id": "KnHt7dIArldA",
        "colab_type": "code",
        "colab": {
          "base_uri": "https://localhost:8080/",
          "height": 391
        },
        "outputId": "95aae437-2cff-476c-fab0-4800f0c0fc6d"
      },
      "source": [
        "data.iloc[:, 1:]"
      ],
      "execution_count": 5,
      "outputs": [
        {
          "output_type": "execute_result",
          "data": {
            "text/html": [
              "<div>\n",
              "<style scoped>\n",
              "    .dataframe tbody tr th:only-of-type {\n",
              "        vertical-align: middle;\n",
              "    }\n",
              "\n",
              "    .dataframe tbody tr th {\n",
              "        vertical-align: top;\n",
              "    }\n",
              "\n",
              "    .dataframe thead th {\n",
              "        text-align: right;\n",
              "    }\n",
              "</style>\n",
              "<table border=\"1\" class=\"dataframe\">\n",
              "  <thead>\n",
              "    <tr style=\"text-align: right;\">\n",
              "      <th></th>\n",
              "      <th>bias</th>\n",
              "      <th>experience</th>\n",
              "      <th>salary</th>\n",
              "    </tr>\n",
              "  </thead>\n",
              "  <tbody>\n",
              "    <tr>\n",
              "      <th>0</th>\n",
              "      <td>1</td>\n",
              "      <td>0.7</td>\n",
              "      <td>48000</td>\n",
              "    </tr>\n",
              "    <tr>\n",
              "      <th>1</th>\n",
              "      <td>1</td>\n",
              "      <td>1.9</td>\n",
              "      <td>48000</td>\n",
              "    </tr>\n",
              "    <tr>\n",
              "      <th>2</th>\n",
              "      <td>1</td>\n",
              "      <td>2.5</td>\n",
              "      <td>60000</td>\n",
              "    </tr>\n",
              "    <tr>\n",
              "      <th>3</th>\n",
              "      <td>1</td>\n",
              "      <td>4.2</td>\n",
              "      <td>63000</td>\n",
              "    </tr>\n",
              "    <tr>\n",
              "      <th>4</th>\n",
              "      <td>1</td>\n",
              "      <td>6.0</td>\n",
              "      <td>76000</td>\n",
              "    </tr>\n",
              "    <tr>\n",
              "      <th>...</th>\n",
              "      <td>...</td>\n",
              "      <td>...</td>\n",
              "      <td>...</td>\n",
              "    </tr>\n",
              "    <tr>\n",
              "      <th>195</th>\n",
              "      <td>1</td>\n",
              "      <td>6.5</td>\n",
              "      <td>84000</td>\n",
              "    </tr>\n",
              "    <tr>\n",
              "      <th>196</th>\n",
              "      <td>1</td>\n",
              "      <td>6.9</td>\n",
              "      <td>73000</td>\n",
              "    </tr>\n",
              "    <tr>\n",
              "      <th>197</th>\n",
              "      <td>1</td>\n",
              "      <td>5.1</td>\n",
              "      <td>72000</td>\n",
              "    </tr>\n",
              "    <tr>\n",
              "      <th>198</th>\n",
              "      <td>1</td>\n",
              "      <td>9.1</td>\n",
              "      <td>69000</td>\n",
              "    </tr>\n",
              "    <tr>\n",
              "      <th>199</th>\n",
              "      <td>1</td>\n",
              "      <td>9.8</td>\n",
              "      <td>79000</td>\n",
              "    </tr>\n",
              "  </tbody>\n",
              "</table>\n",
              "<p>200 rows × 3 columns</p>\n",
              "</div>"
            ],
            "text/plain": [
              "     bias  experience  salary\n",
              "0       1         0.7   48000\n",
              "1       1         1.9   48000\n",
              "2       1         2.5   60000\n",
              "3       1         4.2   63000\n",
              "4       1         6.0   76000\n",
              "..    ...         ...     ...\n",
              "195     1         6.5   84000\n",
              "196     1         6.9   73000\n",
              "197     1         5.1   72000\n",
              "198     1         9.1   69000\n",
              "199     1         9.8   79000\n",
              "\n",
              "[200 rows x 3 columns]"
            ]
          },
          "metadata": {
            "tags": []
          },
          "execution_count": 5
        }
      ]
    },
    {
      "cell_type": "code",
      "metadata": {
        "id": "mO4Z12fzrv0f",
        "colab_type": "code",
        "colab": {
          "base_uri": "https://localhost:8080/",
          "height": 227
        },
        "outputId": "2ebd7fbd-761a-4cfb-d497-0d9d341746ba"
      },
      "source": [
        "data.iloc[:, 0]"
      ],
      "execution_count": 6,
      "outputs": [
        {
          "output_type": "execute_result",
          "data": {
            "text/plain": [
              "0      1\n",
              "1      0\n",
              "2      1\n",
              "3      0\n",
              "4      0\n",
              "      ..\n",
              "195    0\n",
              "196    0\n",
              "197    0\n",
              "198    1\n",
              "199    1\n",
              "Name: Label, Length: 200, dtype: int64"
            ]
          },
          "metadata": {
            "tags": []
          },
          "execution_count": 6
        }
      ]
    },
    {
      "cell_type": "markdown",
      "metadata": {
        "id": "bUBJ3rysmMsR",
        "colab_type": "text"
      },
      "source": [
        "## Train Test 데이터 나누기\n",
        "### 데이터셋을 train/test로 나눠주는 메소드  \n",
        "https://scikit-learn.org/stable/modules/generated/sklearn.model_selection.train_test_split.html"
      ]
    },
    {
      "cell_type": "code",
      "metadata": {
        "id": "XwlHMUbfmMsT",
        "colab_type": "code",
        "colab": {}
      },
      "source": [
        "from sklearn.model_selection import train_test_split"
      ],
      "execution_count": 7,
      "outputs": []
    },
    {
      "cell_type": "code",
      "metadata": {
        "id": "ltEeW8VSmMsg",
        "colab_type": "code",
        "colab": {}
      },
      "source": [
        "X_train, X_test, y_train, y_test = train_test_split(data.iloc[:, 1:], data.iloc[:, 0], test_size=0.25, random_state = 0)"
      ],
      "execution_count": 8,
      "outputs": []
    },
    {
      "cell_type": "code",
      "metadata": {
        "scrolled": true,
        "id": "yAkekYO1mMsu",
        "colab_type": "code",
        "colab": {
          "base_uri": "https://localhost:8080/",
          "height": 35
        },
        "outputId": "ef49aa62-514f-49fa-a62d-d78ed178b8b6"
      },
      "source": [
        "X_train.shape, X_test.shape, y_train.shape, y_test.shape"
      ],
      "execution_count": 9,
      "outputs": [
        {
          "output_type": "execute_result",
          "data": {
            "text/plain": [
              "((150, 3), (50, 3), (150,), (50,))"
            ]
          },
          "metadata": {
            "tags": []
          },
          "execution_count": 9
        }
      ]
    },
    {
      "cell_type": "markdown",
      "metadata": {
        "id": "BGLwENuemMs7",
        "colab_type": "text"
      },
      "source": [
        "## Scaling  \n",
        "\n",
        "experience와 salary의 단위, 평균, 분산이 크게 차이나므로 scaler를 사용해 단위를 맞춰줍니다. "
      ]
    },
    {
      "cell_type": "code",
      "metadata": {
        "id": "zmKvPnjEmMs-",
        "colab_type": "code",
        "colab": {
          "base_uri": "https://localhost:8080/",
          "height": 191
        },
        "outputId": "6a13d5ac-4c8e-4c41-f938-1a7a51161bdf"
      },
      "source": [
        "from sklearn.preprocessing import StandardScaler\n",
        "scaler = StandardScaler()\n",
        "bias_train = X_train[\"bias\"]\n",
        "bias_train = bias_train.reset_index()[\"bias\"]\n",
        "X_train = pd.DataFrame(scaler.fit_transform(X_train), columns = X_train.columns)\n",
        "X_train[\"bias\"] = bias_train\n",
        "X_train.head()"
      ],
      "execution_count": 10,
      "outputs": [
        {
          "output_type": "execute_result",
          "data": {
            "text/html": [
              "<div>\n",
              "<style scoped>\n",
              "    .dataframe tbody tr th:only-of-type {\n",
              "        vertical-align: middle;\n",
              "    }\n",
              "\n",
              "    .dataframe tbody tr th {\n",
              "        vertical-align: top;\n",
              "    }\n",
              "\n",
              "    .dataframe thead th {\n",
              "        text-align: right;\n",
              "    }\n",
              "</style>\n",
              "<table border=\"1\" class=\"dataframe\">\n",
              "  <thead>\n",
              "    <tr style=\"text-align: right;\">\n",
              "      <th></th>\n",
              "      <th>bias</th>\n",
              "      <th>experience</th>\n",
              "      <th>salary</th>\n",
              "    </tr>\n",
              "  </thead>\n",
              "  <tbody>\n",
              "    <tr>\n",
              "      <th>0</th>\n",
              "      <td>1</td>\n",
              "      <td>0.187893</td>\n",
              "      <td>-1.143335</td>\n",
              "    </tr>\n",
              "    <tr>\n",
              "      <th>1</th>\n",
              "      <td>1</td>\n",
              "      <td>1.185555</td>\n",
              "      <td>0.043974</td>\n",
              "    </tr>\n",
              "    <tr>\n",
              "      <th>2</th>\n",
              "      <td>1</td>\n",
              "      <td>-0.310938</td>\n",
              "      <td>-0.351795</td>\n",
              "    </tr>\n",
              "    <tr>\n",
              "      <th>3</th>\n",
              "      <td>1</td>\n",
              "      <td>-1.629277</td>\n",
              "      <td>-1.341220</td>\n",
              "    </tr>\n",
              "    <tr>\n",
              "      <th>4</th>\n",
              "      <td>1</td>\n",
              "      <td>-1.308600</td>\n",
              "      <td>0.043974</td>\n",
              "    </tr>\n",
              "  </tbody>\n",
              "</table>\n",
              "</div>"
            ],
            "text/plain": [
              "   bias  experience    salary\n",
              "0     1    0.187893 -1.143335\n",
              "1     1    1.185555  0.043974\n",
              "2     1   -0.310938 -0.351795\n",
              "3     1   -1.629277 -1.341220\n",
              "4     1   -1.308600  0.043974"
            ]
          },
          "metadata": {
            "tags": []
          },
          "execution_count": 10
        }
      ]
    },
    {
      "cell_type": "markdown",
      "metadata": {
        "id": "y7nOCjJUmMtL",
        "colab_type": "text"
      },
      "source": [
        "이때 scaler는 X_train에 fit 해주시고, fit한 scaler를 X_test에 적용시켜줍니다.  \n",
        "똑같이 X_test에다 fit하면 안돼요!\n"
      ]
    },
    {
      "cell_type": "code",
      "metadata": {
        "scrolled": true,
        "id": "4uYijOv3mMtU",
        "colab_type": "code",
        "colab": {
          "base_uri": "https://localhost:8080/",
          "height": 191
        },
        "outputId": "30388469-4093-4ed1-926f-94cc1efa113f"
      },
      "source": [
        "bias_test = X_test[\"bias\"]\n",
        "bias_test = bias_test.reset_index()[\"bias\"]\n",
        "X_test = pd.DataFrame(scaler.transform(X_test), columns = X_test.columns)\n",
        "X_test[\"bias\"] = bias_test\n",
        "X_test.head()"
      ],
      "execution_count": 11,
      "outputs": [
        {
          "output_type": "execute_result",
          "data": {
            "text/html": [
              "<div>\n",
              "<style scoped>\n",
              "    .dataframe tbody tr th:only-of-type {\n",
              "        vertical-align: middle;\n",
              "    }\n",
              "\n",
              "    .dataframe tbody tr th {\n",
              "        vertical-align: top;\n",
              "    }\n",
              "\n",
              "    .dataframe thead th {\n",
              "        text-align: right;\n",
              "    }\n",
              "</style>\n",
              "<table border=\"1\" class=\"dataframe\">\n",
              "  <thead>\n",
              "    <tr style=\"text-align: right;\">\n",
              "      <th></th>\n",
              "      <th>bias</th>\n",
              "      <th>experience</th>\n",
              "      <th>salary</th>\n",
              "    </tr>\n",
              "  </thead>\n",
              "  <tbody>\n",
              "    <tr>\n",
              "      <th>0</th>\n",
              "      <td>1</td>\n",
              "      <td>-1.344231</td>\n",
              "      <td>-0.615642</td>\n",
              "    </tr>\n",
              "    <tr>\n",
              "      <th>1</th>\n",
              "      <td>1</td>\n",
              "      <td>0.508570</td>\n",
              "      <td>0.307821</td>\n",
              "    </tr>\n",
              "    <tr>\n",
              "      <th>2</th>\n",
              "      <td>1</td>\n",
              "      <td>-0.310938</td>\n",
              "      <td>0.571667</td>\n",
              "    </tr>\n",
              "    <tr>\n",
              "      <th>3</th>\n",
              "      <td>1</td>\n",
              "      <td>1.363709</td>\n",
              "      <td>1.956862</td>\n",
              "    </tr>\n",
              "    <tr>\n",
              "      <th>4</th>\n",
              "      <td>1</td>\n",
              "      <td>-0.987923</td>\n",
              "      <td>-0.747565</td>\n",
              "    </tr>\n",
              "  </tbody>\n",
              "</table>\n",
              "</div>"
            ],
            "text/plain": [
              "   bias  experience    salary\n",
              "0     1   -1.344231 -0.615642\n",
              "1     1    0.508570  0.307821\n",
              "2     1   -0.310938  0.571667\n",
              "3     1    1.363709  1.956862\n",
              "4     1   -0.987923 -0.747565"
            ]
          },
          "metadata": {
            "tags": []
          },
          "execution_count": 11
        }
      ]
    },
    {
      "cell_type": "markdown",
      "metadata": {
        "id": "x1ViMb8zmMti",
        "colab_type": "text"
      },
      "source": [
        "  "
      ]
    },
    {
      "cell_type": "code",
      "metadata": {
        "id": "1Px32j9hmMtk",
        "colab_type": "code",
        "colab": {}
      },
      "source": [
        "# parameter 개수\n",
        "N = len(X_train.loc[0])"
      ],
      "execution_count": 12,
      "outputs": []
    },
    {
      "cell_type": "code",
      "metadata": {
        "id": "EKrJKWh8mMt0",
        "colab_type": "code",
        "colab": {
          "base_uri": "https://localhost:8080/",
          "height": 35
        },
        "outputId": "4acda9b9-1862-4e06-f5f0-0223c108f155"
      },
      "source": [
        "# 초기 parameter들을 임의로 설정해줍니다.\n",
        "parameters = np.array([random.random() for i in range(N)])\n",
        "parameters"
      ],
      "execution_count": 13,
      "outputs": [
        {
          "output_type": "execute_result",
          "data": {
            "text/plain": [
              "array([0.50158737, 0.96837671, 0.12686596])"
            ]
          },
          "metadata": {
            "tags": []
          },
          "execution_count": 13
        }
      ]
    },
    {
      "cell_type": "markdown",
      "metadata": {
        "id": "bjjFx6WhmMuE",
        "colab_type": "text"
      },
      "source": [
        "### * LaTeX   \n",
        "\n",
        "Jupyter Notebook은 LaTeX 문법으로 수식 입력을 지원하고 있습니다.  \n",
        "http://triki.net/apps/3466  \n",
        "https://jjycjnmath.tistory.com/117"
      ]
    },
    {
      "cell_type": "markdown",
      "metadata": {
        "id": "R5-h8isrmMuH",
        "colab_type": "text"
      },
      "source": [
        "## Logistic Function\n",
        "\n",
        "## $p = \"\\frac{1}{1 + e^{-(\\hat{\\beta_0}+\\hat{\\beta_1}x_1+...+\\hat{\\beta_k}x_k)}}\"$\n",
        "\n"
      ]
    },
    {
      "cell_type": "code",
      "metadata": {
        "id": "60aNWP_pmMuJ",
        "colab_type": "code",
        "colab": {}
      },
      "source": [
        "def logistic(X, parameters):\n",
        "    z = 0\n",
        "    for i in range(len(parameters)):\n",
        "      z += parameters[i]*X[i]\n",
        "    p = 1/(1+np.exp(-z))\n",
        "    \n",
        "    return p"
      ],
      "execution_count": 14,
      "outputs": []
    },
    {
      "cell_type": "code",
      "metadata": {
        "scrolled": false,
        "id": "IKkP9n4SmMuW",
        "colab_type": "code",
        "colab": {
          "base_uri": "https://localhost:8080/",
          "height": 35
        },
        "outputId": "b426cc88-3a69-4bb7-f26f-fa2d8ec9e228"
      },
      "source": [
        "logistic(X_train.iloc[1], parameters)"
      ],
      "execution_count": 15,
      "outputs": [
        {
          "output_type": "execute_result",
          "data": {
            "text/plain": [
              "0.8395966851814499"
            ]
          },
          "metadata": {
            "tags": []
          },
          "execution_count": 15
        }
      ]
    },
    {
      "cell_type": "markdown",
      "metadata": {
        "id": "W4WiA20jmMum",
        "colab_type": "text"
      },
      "source": [
        "## Object Function\n",
        "\n",
        "Object Function : 목적함수는 Gradient Descent를 통해 최적화 하고자 하는 함수입니다.  \n",
        "로지스틱 회귀의 목적함수를 작성해주세요\n",
        "## $l(p) =\"-\\sum[{(y_i)logp+(1-y_i)log(1-p)}]\"$\n",
        "\n",
        "\n"
      ]
    },
    {
      "cell_type": "code",
      "metadata": {
        "id": "fGtGjjrgmMuo",
        "colab_type": "code",
        "colab": {}
      },
      "source": [
        "def minus_log_cross_entropy_i(X, y, parameters) :\n",
        "  p = logistic(X, parameters)   \n",
        "  loss = -np.sum(y*np.log(p)+(1-y)*np.log(1-p))\n",
        "  return loss"
      ],
      "execution_count": 16,
      "outputs": []
    },
    {
      "cell_type": "code",
      "metadata": {
        "id": "JZjREIuLmMu1",
        "colab_type": "code",
        "colab": {}
      },
      "source": [
        "def minus_log_cross_entropy(X_set, y_set, parameters) :\n",
        "    loss = 0\n",
        "    for i in range(X_set.shape[0]):\n",
        "        X = X_set.iloc[i, :]\n",
        "        y = y_set.iloc[i]\n",
        "        loss += minus_log_cross_entropy_i(X,y,parameters)\n",
        "    return loss"
      ],
      "execution_count": 17,
      "outputs": []
    },
    {
      "cell_type": "code",
      "metadata": {
        "scrolled": true,
        "id": "jA-S3NYkmMvD",
        "colab_type": "code",
        "colab": {
          "base_uri": "https://localhost:8080/",
          "height": 35
        },
        "outputId": "34f550f4-2666-4b7a-c54e-4f59716aafb5"
      },
      "source": [
        "minus_log_cross_entropy(X_test, y_test, parameters)"
      ],
      "execution_count": 18,
      "outputs": [
        {
          "output_type": "execute_result",
          "data": {
            "text/plain": [
              "54.22860911837079"
            ]
          },
          "metadata": {
            "tags": []
          },
          "execution_count": 18
        }
      ]
    },
    {
      "cell_type": "markdown",
      "metadata": {
        "id": "aFUuOiNSmMvQ",
        "colab_type": "text"
      },
      "source": [
        "## Gradient of Minus Log Cross Entropy\n",
        "\n",
        "## ${\\partial\\over{\\partial \\theta_j}}l(p)= \"-\\sum[(y_i-p_i)x_{ij}]\"$\n",
        "\n",
        "\n"
      ]
    },
    {
      "cell_type": "code",
      "metadata": {
        "id": "pbsKMYTDmMvS",
        "colab_type": "code",
        "colab": {}
      },
      "source": [
        "# cross_entropy를 theta_j에 대해 미분한 값을 구하는 함수\n",
        "def get_gradient_ij_minus_log_cross_entropy(X, y, parameters, j):\n",
        "    p = logistic(X, parameters)\n",
        "    gradient = -((y-p)*X[j])\n",
        "    return gradient"
      ],
      "execution_count": 109,
      "outputs": []
    },
    {
      "cell_type": "code",
      "metadata": {
        "scrolled": true,
        "id": "ojdI2pzgmMvk",
        "colab_type": "code",
        "colab": {
          "base_uri": "https://localhost:8080/",
          "height": 35
        },
        "outputId": "358aa484-92a8-440f-9859-a4fa0fcdacb1"
      },
      "source": [
        "get_gradient_ij_minus_log_cross_entropy(X_train.iloc[0, :], y_train.iloc[0], parameters, 1)"
      ],
      "execution_count": 110,
      "outputs": [
        {
          "output_type": "execute_result",
          "data": {
            "text/plain": [
              "-0.06851691462927095"
            ]
          },
          "metadata": {
            "tags": []
          },
          "execution_count": 110
        }
      ]
    },
    {
      "cell_type": "markdown",
      "metadata": {
        "id": "OndCaTkDmMvy",
        "colab_type": "text"
      },
      "source": [
        "## Batch Gradient Descent  \n",
        "\n",
        "Batch Gradient Descent : \n",
        "$w=w-\\eta \\nabla Q(w)=w-\\eta \\sum_{i=1}^{n} \\nabla Q_{i}(w)$\n",
        "\n",
        "\n",
        "\n",
        "\n"
      ]
    },
    {
      "cell_type": "code",
      "metadata": {
        "id": "wyIfNwDhmMv1",
        "colab_type": "code",
        "colab": {}
      },
      "source": [
        "def get_gradients_bgd(X_train, y_train, parameters) :\n",
        "    gradients = [0 for i in range(len(parameters))]\n",
        "    \n",
        "    for i in range(X_train.shape[0]):\n",
        "        X = X_train.iloc[i, :]\n",
        "        y = y_train.iloc[i]\n",
        "        for j in range(len(parameters)):\n",
        "            gradients[j] += get_gradient_ij_minus_log_cross_entropy(X, y, parameters, j)\n",
        "            \n",
        "    return gradients"
      ],
      "execution_count": 105,
      "outputs": []
    },
    {
      "cell_type": "code",
      "metadata": {
        "id": "djX-0skLmMwE",
        "colab_type": "code",
        "colab": {
          "base_uri": "https://localhost:8080/",
          "height": 35
        },
        "outputId": "3a2cff42-d22d-4141-be9d-42ca4e9a8667"
      },
      "source": [
        "gradients_bgd = get_gradients_bgd(X_train, y_train, parameters)\n",
        "gradients_bgd"
      ],
      "execution_count": 106,
      "outputs": [
        {
          "output_type": "execute_result",
          "data": {
            "text/plain": [
              "[47.68336369643797, 14.23812534021317, 39.42992896053932]"
            ]
          },
          "metadata": {
            "tags": []
          },
          "execution_count": 106
        }
      ]
    },
    {
      "cell_type": "markdown",
      "metadata": {
        "id": "_RwycdNgmMwQ",
        "colab_type": "text"
      },
      "source": [
        "## Stochastic Gradient Descent  \n",
        "\n",
        "Stochastic Gradient Descent : $Q(w)=\\sum_{i=1}^nQi(w)$"
      ]
    },
    {
      "cell_type": "code",
      "metadata": {
        "id": "PkAe1_FPmMwT",
        "colab_type": "code",
        "colab": {}
      },
      "source": [
        "def get_gradients_sgd(X_train, y, parameters) :\n",
        "    gradients = [0 for i in range(len(parameters))]\n",
        "    r = int(random.random()*X_train.shape[0])\n",
        "    X = X_train.iloc[r, :]\n",
        "    y = y_train.iloc[r]\n",
        "        \n",
        "    for j in range(len(parameters)):\n",
        "        gradients[j] = get_gradient_ij_minus_log_cross_entropy(X, y, parameters, j)\n",
        "        \n",
        "    return gradients"
      ],
      "execution_count": 74,
      "outputs": []
    },
    {
      "cell_type": "code",
      "metadata": {
        "id": "5X44Q4jmmMwl",
        "colab_type": "code",
        "colab": {
          "base_uri": "https://localhost:8080/",
          "height": 35
        },
        "outputId": "3056ac38-6c79-4e2d-b8fa-f22eb15154b0"
      },
      "source": [
        "gradients_sgd = get_gradients_sgd(X_train, y_train, parameters)\n",
        "gradients_sgd"
      ],
      "execution_count": 75,
      "outputs": [
        {
          "output_type": "execute_result",
          "data": {
            "text/plain": [
              "[0.31863503499724916, -0.41696587205189395, 0.014011791289616377]"
            ]
          },
          "metadata": {
            "tags": []
          },
          "execution_count": 75
        }
      ]
    },
    {
      "cell_type": "markdown",
      "metadata": {
        "id": "uCw4Kbn3mMwy",
        "colab_type": "text"
      },
      "source": [
        "## Update Parameters  "
      ]
    },
    {
      "cell_type": "code",
      "metadata": {
        "id": "sq2K4G5QmMw0",
        "colab_type": "code",
        "colab": {}
      },
      "source": [
        "def update_parameters(parameters, gradients, learning_rate) :\n",
        "    for i in range(len(parameters)) :\n",
        "        gradients[i] *= learning_rate\n",
        "    parameters -= gradients\n",
        "    return parameters"
      ],
      "execution_count": 76,
      "outputs": []
    },
    {
      "cell_type": "code",
      "metadata": {
        "id": "xVMLYJOmmMw_",
        "colab_type": "code",
        "colab": {
          "base_uri": "https://localhost:8080/",
          "height": 35
        },
        "outputId": "01afd072-6102-46cf-bdd2-60163de1eb10"
      },
      "source": [
        "update_parameters(parameters, gradients_bgd, 0.01)"
      ],
      "execution_count": 77,
      "outputs": [
        {
          "output_type": "execute_result",
          "data": {
            "text/plain": [
              "array([0.51148796, 0.96953705, 0.12110067])"
            ]
          },
          "metadata": {
            "tags": []
          },
          "execution_count": 77
        }
      ]
    },
    {
      "cell_type": "markdown",
      "metadata": {
        "id": "_3KGklmLmMxL",
        "colab_type": "text"
      },
      "source": [
        "## Gradient Descent  \n",
        "\n",
        "위에서 작성한 함수들을 조합해서 Gradient Descent를 진행하는 함수를 완성해주세요\n",
        "\n",
        "learning_rate = 0.01  \n",
        "max_iter = 100000  \n",
        "tolerance = 0.0001\n"
      ]
    },
    {
      "cell_type": "code",
      "metadata": {
        "id": "zVNee4QXmMxO",
        "colab_type": "code",
        "colab": {}
      },
      "source": [
        "def gradient_descent(X_train, y_train, learning_rate=0.01, max_iter=100000, tolerance=0.0001, optimizer=\"bgd\") :\n",
        "    count = 1\n",
        "    point = 100 if optimizer == \"bgd\" else 10000\n",
        "    N = len(X_train.iloc[0])\n",
        "    parameters = np.array([random.random() for i in range(N)])\n",
        "    gradients = [0 for i in range(N)]\n",
        "    loss = 0\n",
        "    \n",
        "    while count < max_iter :\n",
        "        \n",
        "        if optimizer == \"bgd\" :\n",
        "            gradients =  get_gradients_bgd(X_train, y_train, parameters)\n",
        "        elif optimizer == \"sgd\" :\n",
        "            gradients = get_gradients_sgd(X_train, y_train, parameters)\n",
        "            # loss, 중단 확인\n",
        "        if count%point == 0 :\n",
        "            new_loss = minus_log_cross_entropy(X_train, y_train, parameters)\n",
        "            print(count, \"loss: \",new_loss, \"params: \", parameters, \"gradients: \", gradients)\n",
        "            \n",
        "            #중단 조건\n",
        "            if abs(new_loss-loss) < tolerance*len(y_train) :\n",
        "                break\n",
        "            loss = new_loss\n",
        "                \n",
        "            \n",
        "                \n",
        "        parameters = update_parameters(parameters, gradients, learning_rate)\n",
        "        count += 1\n",
        "    return parameters"
      ],
      "execution_count": 111,
      "outputs": []
    },
    {
      "cell_type": "code",
      "metadata": {
        "scrolled": false,
        "id": "SZMqpgoomMxZ",
        "colab_type": "code",
        "colab": {
          "base_uri": "https://localhost:8080/",
          "height": 105
        },
        "outputId": "33f8f3cc-1ce0-4090-aeff-e3da939859e9"
      },
      "source": [
        "new_param_bgd = gradient_descent(X_train, y_train)\n",
        "new_param_bgd"
      ],
      "execution_count": 112,
      "outputs": [
        {
          "output_type": "stream",
          "text": [
            "100 loss:  45.40007360678799 params:  [-1.62116297  3.46541824 -3.29230436] gradients:  [0.280929333869887, -0.9247006325856403, 0.8645213956100467]\n",
            "200 loss:  44.801902602054206 params:  [-1.78112395  3.98835037 -3.77856763] gradients:  [0.08427349336006698, -0.2738640803850837, 0.25328766964719873]\n",
            "300 loss:  44.74043314253642 params:  [-1.83377984  4.15919713 -3.93631575] gradients:  [0.030311434769616355, -0.09819595421104044, 0.09051498986181339]\n",
            "400 loss:  44.73215307400144 params:  [-1.85324704  4.22222891 -3.99438237] gradients:  [0.011517947281423205, -0.03727331792377904, 0.03431629847949706]\n"
          ],
          "name": "stdout"
        },
        {
          "output_type": "execute_result",
          "data": {
            "text/plain": [
              "array([-1.85324704,  4.22222891, -3.99438237])"
            ]
          },
          "metadata": {
            "tags": []
          },
          "execution_count": 112
        }
      ]
    },
    {
      "cell_type": "markdown",
      "metadata": {
        "id": "x8TsjTiBmMxj",
        "colab_type": "text"
      },
      "source": [
        "## Hyper Parameter Tuning\n",
        "\n",
        "Hyper Parameter들을 매번 다르게 해서 학습을 진행해 보세요. 다른 점들을 발견할 수 있습니다."
      ]
    },
    {
      "cell_type": "code",
      "metadata": {
        "scrolled": false,
        "id": "KxxxKNN6mMxm",
        "colab_type": "code",
        "colab": {
          "base_uri": "https://localhost:8080/",
          "height": 175
        },
        "outputId": "aae9614f-0398-4f94-ba4e-f9c001427125"
      },
      "source": [
        "new_param_sgd = gradient_descent(X_train, y_train, learning_rate=0.01, max_iter=100000, tolerance=0.0001, optimizer=\"sgd\")\n",
        "new_param_sgd"
      ],
      "execution_count": 113,
      "outputs": [
        {
          "output_type": "stream",
          "text": [
            "10000 loss:  46.41017148105004 params:  [-1.55727262  3.05045612 -2.91215816] gradients:  [0.009825949911665521, -0.002004942497239956, 0.008209718772223982]\n",
            "20000 loss:  45.21771001934296 params:  [-1.68078212  3.60622805 -3.56128384] gradients:  [0.002866553996234679, -0.003751173146525313, -0.0004411926865042025]\n",
            "30000 loss:  44.82084034868825 params:  [-1.81382946  4.03626868 -3.76311841] gradients:  [0.17880941737158368, -0.14479434507404243, -0.16905537425374068]\n",
            "40000 loss:  44.891483673557566 params:  [-1.71457195  4.2349263  -3.93536189] gradients:  [0.018961782555588447, -0.025489015857395353, -0.016676668317423957]\n",
            "50000 loss:  44.743399816758206 params:  [-1.87531533  4.18171464 -3.96995204] gradients:  [0.07997117932678735, -0.0676076281635997, -0.059783667720841836]\n",
            "60000 loss:  44.75975155146625 params:  [-1.79384951  4.20553109 -3.99990019] gradients:  [-0.3758108629994159, 0.3444913484928286, 0.5784122834663703]\n",
            "70000 loss:  44.853305644155064 params:  [-1.91626303  4.29190006 -3.93846699] gradients:  [0.02591672254633607, -0.042225528483058945, -0.03476002276590652]\n",
            "80000 loss:  44.848298610513574 params:  [-1.82924768  4.38866211 -4.02883547] gradients:  [0.2857602009904612, 0.05369235311537401, -0.006283069743400596]\n"
          ],
          "name": "stdout"
        },
        {
          "output_type": "execute_result",
          "data": {
            "text/plain": [
              "array([-1.82924768,  4.38866211, -4.02883547])"
            ]
          },
          "metadata": {
            "tags": []
          },
          "execution_count": 113
        }
      ]
    },
    {
      "cell_type": "markdown",
      "metadata": {
        "id": "MjzbmXPdmMxw",
        "colab_type": "text"
      },
      "source": [
        "## Predict Label"
      ]
    },
    {
      "cell_type": "code",
      "metadata": {
        "id": "ErwofGLamMx0",
        "colab_type": "code",
        "colab": {}
      },
      "source": [
        "y_predict = []\n",
        "for i in range(len(y_test)):\n",
        "    p = logistic(X_test.iloc[i,:], new_param_bgd)\n",
        "    if p> 0.5 :\n",
        "        y_predict.append(1)\n",
        "    else :\n",
        "        y_predict.append(0)"
      ],
      "execution_count": 114,
      "outputs": []
    },
    {
      "cell_type": "markdown",
      "metadata": {
        "id": "1kmLW90fmMyH",
        "colab_type": "text"
      },
      "source": [
        "## Confusion Matrix"
      ]
    },
    {
      "cell_type": "code",
      "metadata": {
        "scrolled": true,
        "id": "1sMDll9FmMyN",
        "colab_type": "code",
        "colab": {
          "base_uri": "https://localhost:8080/",
          "height": 52
        },
        "outputId": "04972803-63ae-4db0-b0c4-a730ba0bfa56"
      },
      "source": [
        "from sklearn.metrics import *\n",
        "tn, fp, fn, tp = confusion_matrix(y_test, y_predict).ravel()\n",
        "confusion_matrix(y_test, y_predict)"
      ],
      "execution_count": 115,
      "outputs": [
        {
          "output_type": "execute_result",
          "data": {
            "text/plain": [
              "array([[38,  2],\n",
              "       [ 1,  9]])"
            ]
          },
          "metadata": {
            "tags": []
          },
          "execution_count": 115
        }
      ]
    }
  ]
}